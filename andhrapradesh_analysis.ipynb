{
 "cells": [
  {
   "cell_type": "code",
   "execution_count": 16,
   "metadata": {},
   "outputs": [],
   "source": [
    "import pandas as pd\n"
   ]
  },
  {
   "cell_type": "code",
   "execution_count": 17,
   "metadata": {},
   "outputs": [],
   "source": [
    "df = pd.read_csv('/Users/dhruvbharara/Downloads/andhrapradesh.csv')"
   ]
  },
  {
   "cell_type": "code",
   "execution_count": 18,
   "metadata": {},
   "outputs": [
    {
     "name": "stdout",
     "output_type": "stream",
     "text": [
      "count     1135.000000\n",
      "mean      4456.745080\n",
      "std       6482.444176\n",
      "min          0.000000\n",
      "25%        373.785000\n",
      "50%       4000.000000\n",
      "75%       5419.000000\n",
      "max      77000.000000\n",
      "Name: capacity, dtype: float64\n"
     ]
    }
   ],
   "source": [
    "capacity_stats = df['capacity'].describe()\n",
    "print(capacity_stats)"
   ]
  },
  {
   "cell_type": "code",
   "execution_count": 19,
   "metadata": {},
   "outputs": [
    {
     "name": "stdout",
     "output_type": "stream",
     "text": [
      "                   capacity\n",
      "DISTRICT                   \n",
      "Anantapur         67640.890\n",
      "Chittoor         146664.890\n",
      "East Godavari    566088.870\n",
      "Guntur          1411720.441\n",
      "Krishna          681190.297\n",
      "Kurnool          931214.624\n",
      "Prakasam         668421.540\n",
      "Spsr Nellore       9313.000\n",
      "Srikakulam        51167.340\n",
      "Visakhapatanam   127316.000\n",
      "Vizianagaram      34765.560\n",
      "West Godavari    362902.214\n"
     ]
    }
   ],
   "source": [
    "district_capacity = df.groupby('DISTRICT').agg({'capacity': 'sum'})\n",
    "print(district_capacity)\n",
    "\n",
    "#from this we can infer that guntur has the highest capacity of cold storage in andhrapradesh"
   ]
  },
  {
   "cell_type": "code",
   "execution_count": 20,
   "metadata": {},
   "outputs": [],
   "source": [
    "def check_empty_null(x):\n",
    "    count_null = df[x].isnull().sum()\n",
    "    empty_count = (df[x].str.strip() == '').sum()\n",
    "    total_missing_values = count_null+empty_count\n",
    "    return total_missing_values"
   ]
  },
  {
   "cell_type": "code",
   "execution_count": 21,
   "metadata": {},
   "outputs": [
    {
     "data": {
      "text/plain": [
       "739"
      ]
     },
     "execution_count": 21,
     "metadata": {},
     "output_type": "execute_result"
    }
   ],
   "source": [
    "check_empty_null('Manager Name') #checking the null values in manager name column\n"
   ]
  },
  {
   "cell_type": "code",
   "execution_count": 22,
   "metadata": {},
   "outputs": [
    {
     "data": {
      "text/plain": [
       "0"
      ]
     },
     "execution_count": 22,
     "metadata": {},
     "output_type": "execute_result"
    }
   ],
   "source": [
    "check_empty_null('Storage name')#checking the null values in storage name column\n"
   ]
  },
  {
   "cell_type": "code",
   "execution_count": 23,
   "metadata": {},
   "outputs": [
    {
     "data": {
      "text/plain": [
       "53"
      ]
     },
     "execution_count": 23,
     "metadata": {},
     "output_type": "execute_result"
    }
   ],
   "source": [
    "check_empty_null('Address') #checking the null values in address columns"
   ]
  },
  {
   "cell_type": "code",
   "execution_count": 25,
   "metadata": {},
   "outputs": [],
   "source": [
    "df = df.dropna(subset=['Address'])\n",
    "#dropping the rows with empty addresses "
   ]
  },
  {
   "cell_type": "code",
   "execution_count": 26,
   "metadata": {},
   "outputs": [
    {
     "name": "stderr",
     "output_type": "stream",
     "text": [
      "/var/folders/2c/m7b9y7bj78v2_ry5dp9j_cdh0000gn/T/ipykernel_47264/3310105935.py:1: SettingWithCopyWarning: \n",
      "A value is trying to be set on a copy of a slice from a DataFrame\n",
      "\n",
      "See the caveats in the documentation: https://pandas.pydata.org/pandas-docs/stable/user_guide/indexing.html#returning-a-view-versus-a-copy\n",
      "  df['Manager Name'].fillna('Unknown', inplace=True)\n"
     ]
    }
   ],
   "source": [
    "df['Manager Name'].fillna('Unknown', inplace=True)\n",
    "#places where manager name is not there is replaced with Unknown"
   ]
  },
  {
   "cell_type": "code",
   "execution_count": null,
   "metadata": {},
   "outputs": [],
   "source": []
  }
 ],
 "metadata": {
  "kernelspec": {
   "display_name": "Python 3",
   "language": "python",
   "name": "python3"
  },
  "language_info": {
   "codemirror_mode": {
    "name": "ipython",
    "version": 3
   },
   "file_extension": ".py",
   "mimetype": "text/x-python",
   "name": "python",
   "nbconvert_exporter": "python",
   "pygments_lexer": "ipython3",
   "version": "3.10.9"
  },
  "orig_nbformat": 4,
  "vscode": {
   "interpreter": {
    "hash": "aee8b7b246df8f9039afb4144a1f6fd8d2ca17a180786b69acc140d282b71a49"
   }
  }
 },
 "nbformat": 4,
 "nbformat_minor": 2
}
