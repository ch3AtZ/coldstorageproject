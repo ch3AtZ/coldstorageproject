{
 "cells": [
  {
   "cell_type": "code",
   "execution_count": 1,
   "metadata": {},
   "outputs": [],
   "source": [
    "import pandas as pd\n",
    "\n",
    "df = pd.read_csv('/Users/dhruvbharara/Downloads/coldstorageupdated.csv')\n",
    "\n"
   ]
  },
  {
   "cell_type": "code",
   "execution_count": 2,
   "metadata": {},
   "outputs": [
    {
     "data": {
      "text/plain": [
       "<bound method NDFrame.describe of 0        100\n",
       "1         99\n",
       "2         15\n",
       "3         99\n",
       "4         60\n",
       "        ... \n",
       "15772    NaN\n",
       "15773    NaN\n",
       "15774    NaN\n",
       "15775    NaN\n",
       "15776    NaN\n",
       "Name: capacity, Length: 15777, dtype: object>"
      ]
     },
     "execution_count": 2,
     "metadata": {},
     "output_type": "execute_result"
    }
   ],
   "source": [
    "df['capacity'].describe"
   ]
  },
  {
   "cell_type": "code",
   "execution_count": 3,
   "metadata": {},
   "outputs": [
    {
     "data": {
      "text/plain": [
       "array(['100', '99', '15', ..., '6092', '4183', '10333'], dtype=object)"
      ]
     },
     "execution_count": 3,
     "metadata": {},
     "output_type": "execute_result"
    }
   ],
   "source": [
    "df['capacity'].unique()"
   ]
  },
  {
   "cell_type": "code",
   "execution_count": 4,
   "metadata": {},
   "outputs": [],
   "source": [
    "df['capacity'] = pd.to_numeric(df['capacity'],errors='coerce').fillna(0) #converts the object type in capacity into float and the rest with NaN empty values to 0"
   ]
  },
  {
   "cell_type": "code",
   "execution_count": 5,
   "metadata": {},
   "outputs": [
    {
     "data": {
      "text/plain": [
       "count     15777.000000\n",
       "mean       3558.047583\n",
       "std       14835.614445\n",
       "min           0.000000\n",
       "25%         148.882000\n",
       "50%         760.000000\n",
       "75%        4769.000000\n",
       "max      897000.000000\n",
       "Name: capacity, dtype: float64"
      ]
     },
     "execution_count": 5,
     "metadata": {},
     "output_type": "execute_result"
    }
   ],
   "source": [
    "df['capacity'].describe()\n"
   ]
  },
  {
   "cell_type": "code",
   "execution_count": 6,
   "metadata": {},
   "outputs": [],
   "source": [
    "def check_empty_null(x):\n",
    "    count_null = df[x].isnull().sum()\n",
    "    empty_count = (df[x].str.strip() == '').sum()\n",
    "    total_missing_values = count_null+empty_count\n",
    "    return total_missing_values\n",
    "\n",
    "\n"
   ]
  },
  {
   "cell_type": "code",
   "execution_count": 7,
   "metadata": {},
   "outputs": [
    {
     "data": {
      "text/plain": [
       "11821"
      ]
     },
     "execution_count": 7,
     "metadata": {},
     "output_type": "execute_result"
    }
   ],
   "source": [
    "check_empty_null('Manager Name') #checking the null values in manager name column\n"
   ]
  },
  {
   "cell_type": "code",
   "execution_count": 8,
   "metadata": {},
   "outputs": [
    {
     "data": {
      "text/plain": [
       "90"
      ]
     },
     "execution_count": 8,
     "metadata": {},
     "output_type": "execute_result"
    }
   ],
   "source": [
    "check_empty_null('Storage name')#checking the null values in storage name column\n"
   ]
  },
  {
   "cell_type": "code",
   "execution_count": 9,
   "metadata": {},
   "outputs": [
    {
     "data": {
      "text/plain": [
       "1616"
      ]
     },
     "execution_count": 9,
     "metadata": {},
     "output_type": "execute_result"
    }
   ],
   "source": [
    "check_empty_null('Address') #checking the null values in address columns"
   ]
  },
  {
   "cell_type": "code",
   "execution_count": 10,
   "metadata": {},
   "outputs": [],
   "source": [
    "hcap = df['capacity'].idxmax()\n",
    "dhcap = df.loc[hcap]\n",
    "lcap = df['capacity'].idxmin()\n"
   ]
  },
  {
   "cell_type": "code",
   "execution_count": 11,
   "metadata": {},
   "outputs": [
    {
     "name": "stdout",
     "output_type": "stream",
     "text": [
      "details of cold storage with highest capacity : Unnamed: 0               14504\n",
      "STATE            Uttar Pradesh\n",
      "DISTRICT              Pilibhit\n",
      "Storage name          BISALPUR\n",
      "Address                    NaN\n",
      "Manager Name    SRI. PK BAJPAI\n",
      "capacity              897000.0\n",
      "Longitude                  NaN\n",
      "Latitude                   NaN\n",
      "Name: 14504, dtype: object\n"
     ]
    }
   ],
   "source": [
    "print(f\"details of cold storage with highest capacity : {dhcap}\")"
   ]
  },
  {
   "cell_type": "code",
   "execution_count": 12,
   "metadata": {},
   "outputs": [],
   "source": [
    "state_list = df['STATE'].unique()"
   ]
  },
  {
   "cell_type": "code",
   "execution_count": 13,
   "metadata": {},
   "outputs": [
    {
     "name": "stdout",
     "output_type": "stream",
     "text": [
      "{'State Name': ['Andaman And Nicobar Islands', 'Andhra Pradesh', 'Assam', 'Bihar', 'Chandigarh', 'Chhattisgarh', 'Daman And Diu', 'Delhi', 'Gujarat', 'Haryana', 'Himachal Pradesh', 'Jammu And Kashmir', 'Jharkhand', 'Karnataka', 'Kerala', 'Madhya Pradesh', 'Maharashtra', 'Mizoram', 'Nagaland', 'Odisha', 'Punjab', 'Rajasthan', 'Sikkim', 'Tamil Nadu', 'Telangana', 'Tripura', 'Uttar Pradesh', 'Uttarakhand', 'West Bengal'], 'capacity': [1471.0, 5058405.665999999, 131564.0, 2923914.82, 30.0, 1367979.0, 500.0, 93964.0, 1655345.0, 3146072.41, 74146.0, 59742.0, 66381.0, 1976189.0, 337096.0, 1457075.0, 3346420.7098000003, 0.0, 13000.0, 979643.206, 4562066.177999999, 1871332.4232, 70657.0, 1124501.0, 1793162.126, 24833.0, 22653994.3805, 22975.604, 1322856.2]}\n"
     ]
    }
   ],
   "source": [
    "capacity_per_state = {'State Name': [],'capacity':[]} #finding maximum capacities of states\n",
    "\n",
    "def maxcap_state(state):\n",
    "    state_name = df[df['STATE'] == state]\n",
    "    capacity = state_name['capacity'].sum()\n",
    "    capacity_per_state['State Name'].append(state)\n",
    "    capacity_per_state['capacity'].append(capacity) \n",
    "\n",
    "for state in state_list:\n",
    "    maxcap_state(state)\n",
    "print(capacity_per_state)\n",
    "\n"
   ]
  },
  {
   "cell_type": "code",
   "execution_count": 14,
   "metadata": {},
   "outputs": [
    {
     "name": "stdout",
     "output_type": "stream",
     "text": [
      "The state with the maximum capacity is Uttar Pradesh with a capacity of 22653994.3805.\n"
     ]
    }
   ],
   "source": [
    "max_index = capacity_per_state['capacity'].index(max(capacity_per_state['capacity']))\n",
    "max_state = capacity_per_state['State Name'][max_index]\n",
    "max_capacity = capacity_per_state['capacity'][max_index]\n",
    "\n",
    "print(f\"The state with the maximum capacity is {max_state} with a capacity of {max_capacity}.\")\n",
    "#uttar pradesh is the state with the highest capacity"
   ]
  },
  {
   "cell_type": "code",
   "execution_count": 15,
   "metadata": {},
   "outputs": [
    {
     "name": "stdout",
     "output_type": "stream",
     "text": [
      "STATE\n",
      "Karnataka                      3037\n",
      "Uttar Pradesh                  2557\n",
      "Maharashtra                    2330\n",
      "Punjab                         1653\n",
      "Andhra Pradesh                 1135\n",
      "Rajasthan                       962\n",
      "West Bengal                     947\n",
      "Haryana                         473\n",
      "Bihar                           424\n",
      "Gujarat                         348\n",
      "Odisha                          337\n",
      "Telangana                       324\n",
      "Madhya Pradesh                  315\n",
      "Tamil Nadu                      251\n",
      "Chhattisgarh                    247\n",
      "Assam                           181\n",
      "Kerala                          134\n",
      "Himachal Pradesh                 37\n",
      "Jammu And Kashmir                23\n",
      "Jharkhand                        15\n",
      "Uttarakhand                      14\n",
      "Delhi                            10\n",
      "Andaman And Nicobar Islands       7\n",
      "Sikkim                            6\n",
      "Tripura                           3\n",
      "Mizoram                           2\n",
      "Nagaland                          2\n",
      "Daman And Diu                     2\n",
      "Chandigarh                        1\n",
      "Name: count, dtype: int64\n"
     ]
    }
   ],
   "source": [
    "storage_state = df['STATE'].value_counts()\n",
    "print(storage_state) #karnataka has the highest number of cold storages"
   ]
  },
  {
   "cell_type": "code",
   "execution_count": 16,
   "metadata": {},
   "outputs": [
    {
     "name": "stdout",
     "output_type": "stream",
     "text": [
      "DISTRICT\n",
      "Raichur       1307\n",
      "Koppal         469\n",
      "Agra           457\n",
      "Ballari        453\n",
      "Guntur         404\n",
      "              ... \n",
      "Chitrakoot       1\n",
      "Sonitpur         1\n",
      "Sivasagar        1\n",
      "Malappuram       1\n",
      "Mewat            1\n",
      "Name: count, Length: 422, dtype: int64\n"
     ]
    }
   ],
   "source": [
    "storage_district = df['DISTRICT'].value_counts()\n",
    "print(storage_district)"
   ]
  },
  {
   "cell_type": "code",
   "execution_count": 17,
   "metadata": {},
   "outputs": [
    {
     "data": {
      "image/png": "[encoded data removed]",
      "text/plain": [
       "<Figure size 2000x1000 with 1 Axes>"
      ]
     },
     "metadata": {},
     "output_type": "display_data"
    },
    {
     "data": {
      "text/plain": [
       "'this shows that the some of the latitudes and longitudes are not calculated properly but we\\n ...can get the gist that the map of india is plotted'"
      ]
     },
     "execution_count": 17,
     "metadata": {},
     "output_type": "execute_result"
    }
   ],
   "source": [
    "import matplotlib.pyplot as plt\n",
    "plt.figure(figsize=(20,10))\n",
    "plt.scatter(df['Longitude'], df['Latitude'], alpha=1)\n",
    "plt.title('Geographical Distribution of Storage Facilities')\n",
    "plt.xlabel('Longitude')\n",
    "plt.ylabel('Latitude')\n",
    "plt.show()\n",
    "\n",
    "'''this shows that the some of the latitudes and longitudes are not calculated properly but we\n",
    " ...can get the gist that the map of india is plotted'''"
   ]
  },
  {
   "attachments": {},
   "cell_type": "markdown",
   "metadata": {},
   "source": [
    "FROM THE ABOVE ANALYSIS WE FOUND THAT RAICHUR DISTRICT OF KARNATAKA HAS THE HIGHEST NUMBER OF COLD STORAGES..."
   ]
  },
  {
   "cell_type": "code",
   "execution_count": 18,
   "metadata": {},
   "outputs": [],
   "source": [
    "ktk = df[df['STATE'] == 'Karnataka']"
   ]
  },
  {
   "cell_type": "code",
   "execution_count": 19,
   "metadata": {},
   "outputs": [
    {
     "data": {
      "text/plain": [
       "1976189.0"
      ]
     },
     "execution_count": 19,
     "metadata": {},
     "output_type": "execute_result"
    }
   ],
   "source": [
    "ktk['capacity'].sum() #the total capacity of karnataka"
   ]
  },
  {
   "cell_type": "code",
   "execution_count": 22,
   "metadata": {},
   "outputs": [],
   "source": [
    "file = pd.DataFrame.to_csv(ktk , 'karnatakcoldstorage.csv') #extracting the details of storages in karnataka in another csv file"
   ]
  },
  {
   "cell_type": "code",
   "execution_count": null,
   "metadata": {},
   "outputs": [],
   "source": []
  }
 ],
 "metadata": {
  "kernelspec": {
   "display_name": "Python 3",
   "language": "python",
   "name": "python3"
  },
  "language_info": {
   "codemirror_mode": {
    "name": "ipython",
    "version": 3
   },
   "file_extension": ".py",
   "mimetype": "text/x-python",
   "name": "python",
   "nbconvert_exporter": "python",
   "pygments_lexer": "ipython3",
   "version": "3.10.9"
  },
  "orig_nbformat": 4,
  "vscode": {
   "interpreter": {
    "hash": "aee8b7b246df8f9039afb4144a1f6fd8d2ca17a180786b69acc140d282b71a49"
   }
  }
 },
 "nbformat": 4,
 "nbformat_minor": 2
}
